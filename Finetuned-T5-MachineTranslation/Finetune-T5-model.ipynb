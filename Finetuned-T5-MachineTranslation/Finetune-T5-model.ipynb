{
 "cells": [
  {
   "cell_type": "code",
   "execution_count": 2,
   "metadata": {},
   "outputs": [],
   "source": [
    "!pip install tensorflow\n",
    "!pip install datasets transformers[sentencepiece] sacrebleu -q"
   ]
  },
  {
   "cell_type": "code",
   "execution_count": null,
   "metadata": {},
   "outputs": [],
   "source": [
    "import tensorflow as tf\n",
    "import os \n",
    "import sys\n",
    "import transformers\n",
    "import tensorflow as tf\n",
    "from datasets import load_dataset, DatasetDict, load_metric\n",
    "from transformers import AutoModelForSeq2SeqLM, DataCollatorForSeq2Seq, Seq2SeqTrainingArguments, Seq2SeqTrainer, AdamWeightDecay, AutoTokenizer, TFAutoModelForSeq2SeqLM\n",
    "from transformers import AdamW\n",
    "from tqdm import tqdm  \n",
    "\n",
    "\n",
    "import nltk\n",
    "from nltk.translate.bleu_score import sentence_bleu\n",
    "from bert_score import score\n",
    "from nltk.tokenize import word_tokenize\n",
    "from nltk.translate.meteor_score import meteor_score\n",
    "import pandas as pd\n",
    "\n",
    "\n",
    "\n",
    "\n"
   ]
  },
  {
   "cell_type": "code",
   "execution_count": 4,
   "metadata": {},
   "outputs": [],
   "source": [
    "# os.environ[\"CUDA_VISIBLE_DEVICES\"] = \"AVAILABLE_CUDA_DEVICE_NAME\" \n",
    "# Get the list of available GPUs\n",
    "gpus = tf.config.experimental.list_physical_devices('GPU')"
   ]
  },
  {
   "cell_type": "code",
   "execution_count": 6,
   "metadata": {},
   "outputs": [],
   "source": [
    "model_checkpoint = \"google-t5/t5-small\""
   ]
  },
  {
   "cell_type": "code",
   "execution_count": 24,
   "metadata": {},
   "outputs": [
    {
     "data": {
      "text/plain": [
       "Dataset({\n",
       "    features: ['translation'],\n",
       "    num_rows: 2999\n",
       "})"
      ]
     },
     "execution_count": 24,
     "metadata": {},
     "output_type": "execute_result"
    }
   ],
   "source": [
    "test_data"
   ]
  },
  {
   "cell_type": "code",
   "execution_count": null,
   "metadata": {},
   "outputs": [],
   "source": [
    "\n",
    "metric = load_metric(\"sacrebleu\")\n",
    "\n",
    "# Load the training dataset\n",
    "train_data = load_dataset(\"wmt16\", \"de-en\", split=\"train[:50000]\")\n",
    "\n",
    "# Load the validation dataset\n",
    "val_data = load_dataset(\"wmt16\", \"de-en\", split=\"validation\")\n",
    "\n",
    "# Load the test dataset\n",
    "test_data = load_dataset(\"wmt16\", \"de-en\", split=\"test\")\n",
    "\n",
    "# Create a DatasetDict\n",
    "raw_datasets = DatasetDict({\n",
    "    'train': train_data,\n",
    "    'validation': val_data,\n",
    "    'test': test_data\n",
    "})\n",
    "\n",
    "print(raw_datasets)\n"
   ]
  },
  {
   "cell_type": "code",
   "execution_count": 30,
   "metadata": {},
   "outputs": [
    {
     "data": {
      "text/plain": [
       "{'translation': {'de': 'Warum wurde nach meinem Unfall nichts unternommen, um die Treppen sicherer zu machen?',\n",
       "  'en': 'Why have the staircases not been improved since my accident?'}}"
      ]
     },
     "execution_count": 30,
     "metadata": {},
     "output_type": "execute_result"
    }
   ],
   "source": [
    "raw_datasets['train'][45]"
   ]
  },
  {
   "cell_type": "code",
   "execution_count": 10,
   "metadata": {},
   "outputs": [],
   "source": [
    "tokenizer = AutoTokenizer.from_pretrained(model_checkpoint)\n",
    "\n",
    "prefix = \"translation german to english\"\n",
    "source_lang = \"de\"\n",
    "target_lang = \"en\"\n",
    "\n",
    "def preprocess_function(dataset):\n",
    "    inputs = [prefix + ex[source_lang] for ex in dataset[\"translation\"]]\n",
    "    targets = [ex[target_lang] for ex in dataset[\"translation\"]]\n",
    "    \n",
    "    # Tokenize inputs without truncation\n",
    "    model_inputs = tokenizer(inputs, truncation=True)\n",
    "    \n",
    "    # Tokenize targets without truncation\n",
    "    with tokenizer.as_target_tokenizer():\n",
    "        labels = tokenizer(targets, truncation=True)\n",
    "    \n",
    "    # Modify model_inputs to include labels\n",
    "    model_inputs[\"labels\"] = labels[\"input_ids\"]\n",
    "    \n",
    "    return model_inputs\n"
   ]
  },
  {
   "cell_type": "code",
   "execution_count": null,
   "metadata": {},
   "outputs": [],
   "source": [
    "preprocess_function(raw_datasets['train'][:2])\n",
    "tokenized_datasets = raw_datasets.map(preprocess_function, batched=True)\n",
    "model = AutoModelForSeq2SeqLM.from_pretrained(model_checkpoint)\n",
    "data_collator = DataCollatorForSeq2Seq(tokenizer,model=model)"
   ]
  },
  {
   "cell_type": "code",
   "execution_count": null,
   "metadata": {},
   "outputs": [],
   "source": [
    "batch_size = 16\n",
    "model_name = model_checkpoint.split(\"/\")[-1]\n",
    "args = Seq2SeqTrainingArguments(\n",
    "    f\"{model_name}-finetuned-{source_lang}-to-{target_lang}\",\n",
    "    evaluation_strategy=\"epoch\",\n",
    "    learning_rate=2e-5,\n",
    "    per_device_train_batch_size=batch_size,\n",
    "    per_device_eval_batch_size=batch_size,\n",
    "    weight_decay=0.01,\n",
    "    save_total_limit=3,\n",
    "    num_train_epochs=10,\n",
    "    predict_with_generate=True\n",
    ")\n",
    "\n",
    "optimizer = AdamW(model.parameters(), lr=args.learning_rate)\n",
    "\n",
    "# Lists to store losses\n",
    "training_losses = []\n",
    "validation_losses = []\n",
    "\n",
    "def compute_loss(model, inputs):\n",
    "    outputs = model(**inputs)\n",
    "    # Customize this based on your model's output\n",
    "    loss = outputs.loss\n",
    "    return loss\n",
    "\n",
    "trainer = Seq2SeqTrainer(\n",
    "    \n",
    "    model,\n",
    "    args,\n",
    "    train_dataset=tokenized_datasets[\"train\"],\n",
    "    eval_dataset=tokenized_datasets[\"validation\"],\n",
    "    data_collator=data_collator,\n",
    "    tokenizer=tokenizer,\n",
    "    compute_metrics=None, \n",
    "    optimizers=(optimizer, None) \n",
    "\n",
    "# Training loop\n",
    "for epoch in range(args.num_train_epochs):\n",
    "    # Train\n",
    "    train_loss = 0\n",
    "    progress_bar = tqdm(trainer.get_train_dataloader(), desc=f'Epoch {epoch + 1}', leave=False)\n",
    "    for step, batch in enumerate(progress_bar):\n",
    "        inputs = {k: v.to(trainer.args.device) for k, v in batch.items()}\n",
    "        model.train()\n",
    "        loss = compute_loss(model, inputs)\n",
    "        loss.backward()\n",
    "        optimizer.step()\n",
    "        optimizer.zero_grad()\n",
    "        train_loss += loss.item()\n",
    "        progress_bar.set_postfix({'training_loss': train_loss / (step + 1)})  \n",
    "    \n",
    "    # Calculate average training loss for the epoch\n",
    "    train_loss /= len(tokenized_datasets[\"train\"])\n",
    "    training_losses.append(train_loss)\n",
    "    \n",
    "    # Validation\n",
    "    val_loss = trainer.evaluate()\n",
    "    validation_losses.append(val_loss['eval_loss'])"
   ]
  },
  {
   "cell_type": "code",
   "execution_count": 22,
   "metadata": {},
   "outputs": [
    {
     "data": {
      "image/png": "[encoded data removed]",
      "text/plain": [
       "<Figure size 640x480 with 1 Axes>"
      ]
     },
     "metadata": {},
     "output_type": "display_data"
    }
   ],
   "source": [
    "import matplotlib.pyplot as plt\n",
    "\n",
    "\n",
    "plt.plot( training_losses, 'g', label='Training loss')\n",
    "plt.plot( validation_losses, 'r', label='Validation loss')\n",
    "plt.title('Training and Validation Loss')\n",
    "plt.xlabel('Epochs')\n",
    "plt.ylabel('Loss')\n",
    "plt.legend()\n",
    "plt.show()"
   ]
  },
  {
   "cell_type": "code",
   "execution_count": null,
   "metadata": {},
   "outputs": [],
   "source": [
    "from transformers import TFAutoModelForSeq2SeqLM, AutoTokenizer\n",
    "\n",
    "# Load tokenizer and model\n",
    "tokenizer = AutoTokenizer.from_pretrained(\"/t5_fine_tunning_model\")\n",
    "model = TFAutoModelForSeq2SeqLM.from_pretrained(\"/t5_fine_tunning_model\")"
   ]
  },
  {
   "attachments": {},
   "cell_type": "markdown",
   "metadata": {},
   "source": [
    "validation data"
   ]
  },
  {
   "cell_type": "code",
   "execution_count": null,
   "metadata": {},
   "outputs": [],
   "source": [
    "val_references = [example['translation']['en'] for example in val_data]\n",
    "val_germen= [example['translation']['de'] for example in val_data]"
   ]
  },
  {
   "cell_type": "code",
   "execution_count": null,
   "metadata": {},
   "outputs": [],
   "source": [
    "# Define a translation function\n",
    "def translate_batch(model, tokenizer, german_sentences):\n",
    "    inputs = tokenizer(german_sentences, return_tensors=\"pt\", padding=True, truncation=True)\n",
    "    outputs = model.generate(**inputs)\n",
    "    translated_texts = tokenizer.batch_decode(outputs, skip_special_tokens=True)\n",
    "    return translated_texts\n",
    "\n",
    "# Translate all German sentences to English\n",
    "english_translations = translate_batch(model, tokenizer, val_germen)\n",
    "\n"
   ]
  },
  {
   "cell_type": "code",
   "execution_count": null,
   "metadata": {},
   "outputs": [],
   "source": [
    "\n",
    "# Initialize variables to store cumulative BLEU scores for each n-gram precision\n",
    "total_bleu1 = 0\n",
    "total_bleu2 = 0\n",
    "total_bleu3 = 0\n",
    "total_bleu4 = 0\n",
    "\n",
    "# Calculate BLEU score for each predicted sentence\n",
    "for i, pred in enumerate(english_translations):\n",
    "    reference = val_references[i % len(val_references)]  # Use the same reference for each predicted sentence\n",
    "    \n",
    "    # Tokenize reference and predicted sentences\n",
    "    reference_tokens = reference.split()\n",
    "    predicted_tokens = pred.split()\n",
    "    \n",
    "    # Calculate BLEU scores for n-grams up to 4\n",
    "    bleu1 = sentence_bleu([reference_tokens], predicted_tokens, weights=(1, 0, 0, 0))\n",
    "    bleu2 = sentence_bleu([reference_tokens], predicted_tokens, weights=(0.5, 0.5, 0, 0))\n",
    "    bleu3 = sentence_bleu([reference_tokens], predicted_tokens, weights=(0.33, 0.33, 0.33, 0))\n",
    "    bleu4 = sentence_bleu([reference_tokens], predicted_tokens, weights=(0.25, 0.25, 0.25, 0.25))\n",
    "    \n",
    "    # Accumulate BLEU scores\n",
    "    total_bleu1 += bleu1\n",
    "    total_bleu2 += bleu2\n",
    "    total_bleu3 += bleu3\n",
    "    total_bleu4 += bleu4\n",
    "\n",
    "# Calculate average BLEU scores for each n-gram precision\n",
    "avg_bleu1 = total_bleu1 / len(english_translations)\n",
    "avg_bleu2 = total_bleu2 / len(english_translations)\n",
    "avg_bleu3 = total_bleu3 / len(english_translations)\n",
    "avg_bleu4 = total_bleu4 / len(english_translations)\n",
    "\n",
    "print(f\"Average BLEU-1: {avg_bleu1}\")\n",
    "print(f\"Average BLEU-2: {avg_bleu2}\")\n",
    "print(f\"Average BLEU-3: {avg_bleu3}\")\n",
    "print(f\"Average BLEU-4: {avg_bleu4}\")\n",
    "\n"
   ]
  },
  {
   "cell_type": "code",
   "execution_count": null,
   "metadata": {},
   "outputs": [
    {
     "name": "stderr",
     "output_type": "stream",
     "text": [
      "Some weights of RobertaModel were not initialized from the model checkpoint at roberta-large and are newly initialized: ['roberta.pooler.dense.bias', 'roberta.pooler.dense.weight']\n",
      "You should probably TRAIN this model on a down-stream task to be able to use it for predictions and inference.\n"
     ]
    },
    {
     "name": "stdout",
     "output_type": "stream",
     "text": [
      "calculating scores...\n",
      "computing bert embedding.\n"
     ]
    },
    {
     "name": "stderr",
     "output_type": "stream",
     "text": [
      "100%|██████████| 68/68 [00:08<00:00,  7.67it/s]\n"
     ]
    },
    {
     "name": "stdout",
     "output_type": "stream",
     "text": [
      "computing greedy matching.\n"
     ]
    },
    {
     "name": "stderr",
     "output_type": "stream",
     "text": [
      " 59%|█████▉    | 20/34 [00:00<00:00, 67.22it/s]Warning: Empty candidate sentence detected; setting raw BERTscores to 0.\n",
      "Warning: Empty candidate sentence detected; setting raw BERTscores to 0.\n",
      " 79%|███████▉  | 27/34 [00:00<00:00, 67.72it/s]Warning: Empty candidate sentence detected; setting raw BERTscores to 0.\n",
      "100%|██████████| 34/34 [00:00<00:00, 65.52it/s]\n"
     ]
    },
    {
     "name": "stdout",
     "output_type": "stream",
     "text": [
      "done in 9.40 seconds, 230.78 sentences/sec\n",
      "Precision: tensor(0.8954)\n",
      "Recall: tensor(0.8856)\n",
      "F1 Score: tensor(0.8903)\n"
     ]
    }
   ],
   "source": [
    "from bert_score import score\n",
    "# Calculate BERT score\n",
    "P, R, F1 = score(english_translations, val_references, lang='en', verbose=True)\n",
    "\n",
    "print(\"Precision:\", P.mean())\n",
    "print(\"Recall:\", R.mean())\n",
    "print(\"F1 Score:\", F1.mean())\n"
   ]
  },
  {
   "cell_type": "code",
   "execution_count": null,
   "metadata": {},
   "outputs": [
    {
     "name": "stdout",
     "output_type": "stream",
     "text": [
      "METEOR score: 0.3042717075383296\n"
     ]
    }
   ],
   "source": [
    "\n",
    "from nltk.tokenize import word_tokenize\n",
    "from nltk.translate.meteor_score import meteor_score\n",
    "# Join the list of references into a single string with tokens separated by spaces\n",
    "references_string = \" \".join(val_references)\n",
    "predicted_string = \" \".join(english_translations)\n",
    "\n",
    "# Tokenize the strings into lists of words\n",
    "reference_tokens = word_tokenize(references_string)\n",
    "predicted_tokens = word_tokenize(predicted_string)\n",
    "\n",
    "# Calculate METEOR score\n",
    "score = meteor_score([reference_tokens], predicted_tokens)\n",
    "print(\"METEOR score:\", score)\n",
    "\n"
   ]
  },
  {
   "cell_type": "markdown",
   "metadata": {},
   "source": [
    "## Test Data"
   ]
  },
  {
   "cell_type": "code",
   "execution_count": null,
   "metadata": {},
   "outputs": [],
   "source": [
    "test_references = [example['translation']['en'] for example in test_data]\n",
    "teset_german= [example['translation']['de'] for example in test_data]"
   ]
  },
  {
   "cell_type": "code",
   "execution_count": null,
   "metadata": {},
   "outputs": [],
   "source": [
    "# Define a translation function\n",
    "def translate_batch(model, tokenizer, german_sentences):\n",
    "    inputs = tokenizer(german_sentences, return_tensors=\"pt\", padding=True, truncation=True)\n",
    "    outputs = model.generate(**inputs)\n",
    "    translated_texts = tokenizer.batch_decode(outputs, skip_special_tokens=True)\n",
    "    return translated_texts\n",
    "\n",
    "# Translate all German sentences to English\n",
    "english_test_translations = translate_batch(model, tokenizer, tset_germen)\n",
    "\n"
   ]
  },
  {
   "cell_type": "code",
   "execution_count": null,
   "metadata": {},
   "outputs": [],
   "source": [
    "# Initialize variables to store cumulative BLEU scores for each n-gram precision\n",
    "total_bleu1 = 0\n",
    "total_bleu2 = 0\n",
    "total_bleu3 = 0\n",
    "total_bleu4 = 0\n",
    "\n",
    "# Calculate BLEU score for each predicted sentence\n",
    "for i, pred in enumerate(english_test_translations):\n",
    "    reference = val_references[i % len(test_references)]  # Use the same reference for each predicted sentence\n",
    "    \n",
    "    # Tokenize reference and predicted sentences\n",
    "    reference_tokens = reference.split()\n",
    "    predicted_tokens = pred.split()\n",
    "    \n",
    "    # Calculate BLEU scores for n-grams up to 4\n",
    "    bleu1 = sentence_bleu([reference_tokens], predicted_tokens, weights=(1, 0, 0, 0))\n",
    "    bleu2 = sentence_bleu([reference_tokens], predicted_tokens, weights=(0.5, 0.5, 0, 0))\n",
    "    bleu3 = sentence_bleu([reference_tokens], predicted_tokens, weights=(0.33, 0.33, 0.33, 0))\n",
    "    bleu4 = sentence_bleu([reference_tokens], predicted_tokens, weights=(0.25, 0.25, 0.25, 0.25))\n",
    "    \n",
    "    # Accumulate BLEU scores\n",
    "    total_bleu1 += bleu1\n",
    "    total_bleu2 += bleu2\n",
    "    total_bleu3 += bleu3\n",
    "    total_bleu4 += bleu4\n",
    "\n",
    "# Calculate average BLEU scores for each n-gram precision\n",
    "avg_bleu1 = total_bleu1 / len(english_test_translations)\n",
    "avg_bleu2 = total_bleu2 / len(english_test_translations)\n",
    "avg_bleu3 = total_bleu3 / len(english_test_translations)\n",
    "avg_bleu4 = total_bleu4 / len(english_test_translations)\n",
    "\n",
    "print(f\"Average BLEU-1: {avg_bleu1}\")\n",
    "print(f\"Average BLEU-2: {avg_bleu2}\")\n",
    "print(f\"Average BLEU-3: {avg_bleu3}\")\n",
    "print(f\"Average BLEU-4: {avg_bleu4}\")\n",
    "\n"
   ]
  },
  {
   "cell_type": "code",
   "execution_count": null,
   "metadata": {},
   "outputs": [
    {
     "name": "stderr",
     "output_type": "stream",
     "text": [
      "Some weights of RobertaModel were not initialized from the model checkpoint at roberta-large and are newly initialized: ['roberta.pooler.dense.bias', 'roberta.pooler.dense.weight']\n",
      "You should probably TRAIN this model on a down-stream task to be able to use it for predictions and inference.\n"
     ]
    },
    {
     "name": "stdout",
     "output_type": "stream",
     "text": [
      "calculating scores...\n",
      "computing bert embedding.\n"
     ]
    },
    {
     "name": "stderr",
     "output_type": "stream",
     "text": [
      "100%|██████████| 94/94 [00:12<00:00,  7.81it/s]\n"
     ]
    },
    {
     "name": "stdout",
     "output_type": "stream",
     "text": [
      "computing greedy matching.\n"
     ]
    },
    {
     "name": "stderr",
     "output_type": "stream",
     "text": [
      "  0%|          | 0/47 [00:00<?, ?it/s]Warning: Empty candidate sentence detected; setting raw BERTscores to 0.\n",
      "100%|██████████| 47/47 [00:00<00:00, 65.52it/s]\n"
     ]
    },
    {
     "name": "stdout",
     "output_type": "stream",
     "text": [
      "done in 12.79 seconds, 234.50 sentences/sec\n",
      "Precision: tensor(0.8997)\n",
      "Recall: tensor(0.8896)\n",
      "F1 Score: tensor(0.8944)\n"
     ]
    }
   ],
   "source": [
    "# Calculate BERT score\n",
    "P, R, F1 = score(english_test_translations, test_references, lang='en', verbose=True)\n",
    "\n",
    "print(\"Precision:\", P.mean())\n",
    "print(\"Recall:\", R.mean())\n",
    "print(\"F1 Score:\", F1.mean())"
   ]
  },
  {
   "cell_type": "code",
   "execution_count": null,
   "metadata": {},
   "outputs": [
    {
     "name": "stdout",
     "output_type": "stream",
     "text": [
      "METEOR score: 0.31437722593472905\n"
     ]
    }
   ],
   "source": [
    "# Join the list of references into a single string with tokens separated by spaces\n",
    "references_string = \" \".join(test_references)\n",
    "predicted_string = \" \".join(english_test_translations)\n",
    "\n",
    "# Tokenize the strings into lists of words\n",
    "reference_tokens = word_tokenize(references_string)\n",
    "predicted_tokens = word_tokenize(predicted_string)\n",
    "\n",
    "# Calculate METEOR score\n",
    "score = meteor_score([reference_tokens], predicted_tokens)\n",
    "print(\"METEOR score:\", score)"
   ]
  },
  {
   "attachments": {},
   "cell_type": "markdown",
   "metadata": {},
   "source": [
    "Inference Pipeline"
   ]
  },
  {
   "cell_type": "code",
   "execution_count": null,
   "metadata": {},
   "outputs": [],
   "source": [
    "\n",
    "\n",
    "# Read CSV file\n",
    "df = pd.read_csv(\"/test.csv\")\n",
    "\n",
    "# Assuming your German text column is named 'German'\n",
    "german_texts = df['de'].tolist()\n",
    "\n",
    "# Tokenize German input texts\n",
    "german_inputs = tokenizer(german_texts, return_tensors=\"tf\", padding=True, truncation=True)\n",
    "\n",
    "# Generate translations for German input texts\n",
    "translated = model.generate(input_ids=german_inputs['input_ids'], attention_mask=german_inputs['attention_mask'])\n",
    "\n",
    "# Decode generated translations\n",
    "decoded_translations = [tokenizer.decode(t, skip_special_tokens=True) for t in translated]\n",
    "\n",
    "# Create a DataFrame with German sentences and their corresponding English translations\n",
    "translation_df = pd.DataFrame({'de': german_texts, 'en': decoded_translations})\n",
    "\n",
    "# Save the DataFrame to a CSV file\n",
    "translation_df.to_csv(\"/output.csv\", index=False)\n"
   ]
  },
  {
   "cell_type": "code",
   "execution_count": 9,
   "metadata": {},
   "outputs": [
    {
     "data": {
      "text/html": [
       "<div>\n",
       "<style scoped>\n",
       "    .dataframe tbody tr th:only-of-type {\n",
       "        vertical-align: middle;\n",
       "    }\n",
       "\n",
       "    .dataframe tbody tr th {\n",
       "        vertical-align: top;\n",
       "    }\n",
       "\n",
       "    .dataframe thead th {\n",
       "        text-align: right;\n",
       "    }\n",
       "</style>\n",
       "<table border=\"1\" class=\"dataframe\">\n",
       "  <thead>\n",
       "    <tr style=\"text-align: right;\">\n",
       "      <th></th>\n",
       "      <th>de</th>\n",
       "      <th>en</th>\n",
       "    </tr>\n",
       "  </thead>\n",
       "  <tbody>\n",
       "    <tr>\n",
       "      <th>0</th>\n",
       "      <td>Im Parlament besteht der Wunsch nach einer Aus...</td>\n",
       "      <td>Parliament wants to have a debate in the cours...</td>\n",
       "    </tr>\n",
       "    <tr>\n",
       "      <th>1</th>\n",
       "      <td>Wiederaufnahme der Sitzungsperiode</td>\n",
       "      <td>Reaufnahme of the session</td>\n",
       "    </tr>\n",
       "    <tr>\n",
       "      <th>2</th>\n",
       "      <td>Warum wurde nach meinem Unfall nichts unternom...</td>\n",
       "      <td>Why has nothing been done after my accident to...</td>\n",
       "    </tr>\n",
       "  </tbody>\n",
       "</table>\n",
       "</div>"
      ],
      "text/plain": [
       "                                                  de  \\\n",
       "0  Im Parlament besteht der Wunsch nach einer Aus...   \n",
       "1                 Wiederaufnahme der Sitzungsperiode   \n",
       "2  Warum wurde nach meinem Unfall nichts unternom...   \n",
       "\n",
       "                                                  en  \n",
       "0  Parliament wants to have a debate in the cours...  \n",
       "1                          Reaufnahme of the session  \n",
       "2  Why has nothing been done after my accident to...  "
      ]
     },
     "execution_count": 9,
     "metadata": {},
     "output_type": "execute_result"
    }
   ],
   "source": [
    "pd.read_csv('/output.csv')"
   ]
  }
 ],
 "metadata": {
  "kernelspec": {
   "display_name": "gpu",
   "language": "python",
   "name": "python3"
  },
  "language_info": {
   "codemirror_mode": {
    "name": "ipython",
    "version": 3
   },
   "file_extension": ".py",
   "mimetype": "text/x-python",
   "name": "python",
   "nbconvert_exporter": "python",
   "pygments_lexer": "ipython3",
   "version": "3.11.8"
  },
  "orig_nbformat": 4
 },
 "nbformat": 4,
 "nbformat_minor": 2
}
